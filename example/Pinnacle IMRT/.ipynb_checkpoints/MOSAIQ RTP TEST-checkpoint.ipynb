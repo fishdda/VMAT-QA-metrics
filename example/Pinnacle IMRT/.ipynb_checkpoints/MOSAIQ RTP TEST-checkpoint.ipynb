{
 "cells": [
  {
   "cell_type": "markdown",
   "metadata": {},
   "source": [
    "## Load DICOM and RTP files into RAM"
   ]
  },
  {
   "cell_type": "code",
   "execution_count": 2,
   "metadata": {},
   "outputs": [],
   "source": [
    "import pydicom \n",
    "import os\n",
    "import matplotlib.pyplot as plt\n",
    "import numpy as np\n",
    "import pandas as pd"
   ]
  },
  {
   "cell_type": "code",
   "execution_count": 3,
   "metadata": {},
   "outputs": [],
   "source": [
    "dicom_path = 'C:/GitFolder/VMAT-QA-metrics/example/Pinnacle IMRT/Pinnacle_PatientData.dcm'\n",
    "rtp_path = 'C:/GitFolder/VMAT-QA-metrics/example/Pinnacle IMRT/Pinnacle_PatientData.RTP'"
   ]
  },
  {
   "cell_type": "code",
   "execution_count": 4,
   "metadata": {},
   "outputs": [],
   "source": [
    "dcm = pydicom.read_file(dicom_path)"
   ]
  },
  {
   "cell_type": "markdown",
   "metadata": {},
   "source": [
    "### Deal with rtplan DICOM"
   ]
  },
  {
   "cell_type": "code",
   "execution_count": 56,
   "metadata": {},
   "outputs": [
    {
     "name": "stdout",
     "output_type": "stream",
     "text": [
      "it has no jaw positions\n",
      "This is 6th beam 2th control point\n",
      "MU is 8.199999809265\n",
      "it has no jaw positions\n",
      "This is 6th beam 3th control point\n",
      "MU is 8.199999809265\n",
      "it has no jaw positions\n",
      "This is 6th beam 4th control point\n",
      "MU is 16.39999961853\n"
     ]
    }
   ],
   "source": [
    "dcm = pydicom.read_file(dicom_path)\n",
    "mu_density = {'Gantry':[],'MLC':[],'JAW':[],'MU':[]}\n",
    "absolute_MU = []\n",
    "for i in range(len(dcm.BeamSequence)):\n",
    "    \n",
    "    absolute_MU.append(float(dcm.FractionGroupSequence[0].ReferencedBeamSequence[i].BeamMeterset))\n",
    "    \n",
    "    for j in range(len(dcm.BeamSequence[i].ControlPointSequence)):\n",
    "        \n",
    "        mu_density['Gantry'].append(int(dcm.BeamSequence[i].ControlPointSequence[0].GantryAngle))\n",
    "        MU = float(dcm.BeamSequence[i].ControlPointSequence[j].CumulativeMetersetWeight)*absolute_MU[i]/100\n",
    "        mu_density['MU'].append(MU)\n",
    "        if len(dcm.BeamSequence[i].ControlPointSequence[j].BeamLimitingDevicePositionSequence) == 3:\n",
    "            mu_density['MLC'].append(dcm.BeamSequence[i].ControlPointSequence[j].BeamLimitingDevicePositionSequence[2].LeafJawPositions)\n",
    "            mu_density['JAW'].append(dcm.BeamSequence[i].ControlPointSequence[j].BeamLimitingDevicePositionSequence[1].LeafJawPositions)\n",
    "        else:\n",
    "            mu_density['MLC'].append(dcm.BeamSequence[i].ControlPointSequence[j].BeamLimitingDevicePositionSequence[0].LeafJawPositions)\n",
    "            mu_density['JAW'].append([None,None])\n",
    "            print('it has no jaw positions')\n",
    "            print('This is {}th beam {}th control point'.format(i+1,j+1))\n",
    "            print('MU is {}'.format(MU))"
   ]
  },
  {
   "cell_type": "code",
   "execution_count": 56,
   "metadata": {
    "scrolled": true
   },
   "outputs": [
    {
     "data": {
      "text/plain": [
       "{0, 30, 45, 60, 160, 200, 240, 275, 315}"
      ]
     },
     "execution_count": 56,
     "metadata": {},
     "output_type": "execute_result"
    }
   ],
   "source": [
    "set(mu_density['Gantry'])"
   ]
  },
  {
   "cell_type": "code",
   "execution_count": 60,
   "metadata": {},
   "outputs": [
    {
     "data": {
      "text/plain": [
       "200"
      ]
     },
     "execution_count": 60,
     "metadata": {},
     "output_type": "execute_result"
    }
   ],
   "source": [
    "mu_density['Gantry'][0]"
   ]
  },
  {
   "cell_type": "code",
   "execution_count": 70,
   "metadata": {},
   "outputs": [
    {
     "data": {
      "text/plain": [
       "[-45, 40]"
      ]
     },
     "execution_count": 70,
     "metadata": {},
     "output_type": "execute_result"
    }
   ],
   "source": [
    "mu_density['JAW'][2]"
   ]
  },
  {
   "cell_type": "markdown",
   "metadata": {},
   "source": [
    "### Deal with RTP plan"
   ]
  },
  {
   "cell_type": "code",
   "execution_count": 103,
   "metadata": {},
   "outputs": [],
   "source": [
    "line,pointer = [],[]\n",
    "absolute_MU = []\n",
    "RTP = {'Gantry':[],'MLC':[],'JAW':[],'MU':[],'MU_absolute':[]}\n",
    "with open(rtp_path, \"r+\", encoding = \"ISO-8859-1\") as f:\n",
    "    line1 = f.readline()    \n",
    "    line.append(line1)\n",
    "    while line1:        \n",
    "        pointer.append(f.tell())  #record the pointer loaction to help write        \n",
    "        line1 = f.readline()        \n",
    "        line.append(line1)\n",
    "for i,item in enumerate(line[3:-9]):\n",
    "    TempLine = item.split('\"')  \n",
    "    if TempLine[1] == 'CONTROL_PT_DEF': # to ensure the head\n",
    "        RTP['Gantry'].append(float(TempLine[27].split(' ')[-1]))\n",
    "        PP_ = []\n",
    "        for item1 in TempLine:\n",
    "            if ' ' in item1:\n",
    "                PP_.append(item1.split(' ')[-1])\n",
    "            else:\n",
    "                PP_.append(item1)\n",
    "\n",
    "#         print('This is {}th control point'.format(i))\n",
    "        MLC_A = [float(item) for item in PP_[65:65+160] if item != ',']\n",
    "        MLC_B = [float(item) for item in PP_[65+161+39:65+161+39+160] if item != ',']\n",
    "        RTP['MLC'].append(MLC_A+MLC_B)\n",
    "        RTP['MU'].append(float(PP_[15]))\n",
    "        JAW1 = float(TempLine[47].split(' ')[-1])\n",
    "        JAW2 = float(TempLine[49].split(' ')[-1])\n",
    "        RTP['JAW'].append([JAW1,JAW2])\n",
    "    elif TempLine[1] == \"FIELD_DEF\":\n",
    "        absolute_MU.append(float(TempLine[13].split(' ')[-1]))\n",
    "\n",
    "count = 0\n",
    "RTP['MU_absolute'] = []\n",
    "for i,item in enumerate(RTP['MU']):\n",
    "    RTP['MU_absolute'].append(absolute_MU[count]*RTP['MU'][i])\n",
    "    if RTP['MU'][i] == 0 and i>0: \n",
    "        count += 1"
   ]
  },
  {
   "cell_type": "code",
   "execution_count": 104,
   "metadata": {},
   "outputs": [
    {
     "data": {
      "text/plain": [
       "array([-65.,  70.])"
      ]
     },
     "execution_count": 104,
     "metadata": {},
     "output_type": "execute_result"
    }
   ],
   "source": [
    "np.array(RTP['JAW'][0])*10"
   ]
  },
  {
   "cell_type": "code",
   "execution_count": 105,
   "metadata": {},
   "outputs": [
    {
     "data": {
      "text/plain": [
       "[-65, 70]"
      ]
     },
     "execution_count": 105,
     "metadata": {},
     "output_type": "execute_result"
    }
   ],
   "source": [
    "mu_density['JAW'][4]"
   ]
  },
  {
   "cell_type": "code",
   "execution_count": 106,
   "metadata": {},
   "outputs": [
    {
     "data": {
      "text/plain": [
       "array([ True,  True])"
      ]
     },
     "execution_count": 106,
     "metadata": {},
     "output_type": "execute_result"
    }
   ],
   "source": [
    "np.array(mu_density['JAW'][4]) == np.array(RTP['JAW'][4])*10"
   ]
  },
  {
   "cell_type": "code",
   "execution_count": 248,
   "metadata": {},
   "outputs": [
    {
     "data": {
      "text/plain": [
       "True"
      ]
     },
     "execution_count": 248,
     "metadata": {},
     "output_type": "execute_result"
    }
   ],
   "source": [
    "S = np.array(mu_density['MLC'][4]) == np.array(RTP['MLC'][4])*10\n",
    "S.all()"
   ]
  },
  {
   "cell_type": "markdown",
   "metadata": {},
   "source": [
    "### Check the difference"
   ]
  },
  {
   "cell_type": "code",
   "execution_count": 257,
   "metadata": {},
   "outputs": [
    {
     "data": {
      "text/plain": [
       "True"
      ]
     },
     "execution_count": 257,
     "metadata": {},
     "output_type": "execute_result"
    }
   ],
   "source": [
    "len(mu_density['Gantry']) == len(RTP['Gantry'])"
   ]
  },
  {
   "cell_type": "code",
   "execution_count": 116,
   "metadata": {},
   "outputs": [],
   "source": [
    "data = np.zeros([len(RTP['Gantry']),11])\n",
    "for i in range(len(mu_density['Gantry'])): \n",
    "    data[i,0] = int(i+1)\n",
    "    S = np.array(mu_density['MLC'][i]) == np.array(RTP['MLC'][i])*10\n",
    "    S2 = np.array(mu_density['JAW'][i]) == np.array(RTP['JAW'][i])*10\n",
    "    data[i,1] = mu_density['Gantry'][i]\n",
    "    data[i,2] = np.array(mu_density['MU'][i])\n",
    "    data[i,3] = np.array(RTP['MU_absolute'][i])\n",
    "    data[i,4] = np.array(mu_density['MU'][i])-np.array(RTP['MU_absolute'][i])\n",
    "    data[i,5] = S.all()\n",
    "    data[i,6] = np.array(mu_density['JAW'][i])[0]\n",
    "    data[i,7] = np.array(mu_density['JAW'][i])[1]\n",
    "    JAW1 = np.array(RTP['JAW'][i])*10\n",
    "    data[i,8] = JAW1[0]\n",
    "    data[i,9] = JAW1[1]\n",
    "    data[i,10] = S2.all()\n",
    "    \n",
    "df = pd.DataFrame(data, columns=['Control Point #','Gantry Angle','Plan MU','RTP MU','MU difference','MLC difference (1.0 means 100% Same)','Plan JAW1(mm)','Plan JAW2(mm)','RTP JAW1(mm)','RTP JAW2(mm)','JAW difference(1.0 means same)'])   "
   ]
  },
  {
   "cell_type": "code",
   "execution_count": 123,
   "metadata": {},
   "outputs": [
    {
     "data": {
      "text/html": [
       "<div>\n",
       "<style scoped>\n",
       "    .dataframe tbody tr th:only-of-type {\n",
       "        vertical-align: middle;\n",
       "    }\n",
       "\n",
       "    .dataframe tbody tr th {\n",
       "        vertical-align: top;\n",
       "    }\n",
       "\n",
       "    .dataframe thead th {\n",
       "        text-align: right;\n",
       "    }\n",
       "</style>\n",
       "<table border=\"1\" class=\"dataframe\">\n",
       "  <thead>\n",
       "    <tr style=\"text-align: right;\">\n",
       "      <th></th>\n",
       "      <th>Control Point #</th>\n",
       "      <th>Gantry Angle</th>\n",
       "      <th>Plan MU</th>\n",
       "      <th>RTP MU</th>\n",
       "      <th>MU difference</th>\n",
       "      <th>MLC difference (1.0 means 100% Same)</th>\n",
       "      <th>Plan JAW1(mm)</th>\n",
       "      <th>Plan JAW2(mm)</th>\n",
       "      <th>RTP JAW1(mm)</th>\n",
       "      <th>RTP JAW2(mm)</th>\n",
       "      <th>JAW difference(1.0 means same)</th>\n",
       "    </tr>\n",
       "  </thead>\n",
       "  <tbody>\n",
       "    <tr>\n",
       "      <td>34</td>\n",
       "      <td>35.0</td>\n",
       "      <td>45.0</td>\n",
       "      <td>0.000000</td>\n",
       "      <td>0.00000</td>\n",
       "      <td>0.000000e+00</td>\n",
       "      <td>1.0</td>\n",
       "      <td>-60.0</td>\n",
       "      <td>65.0</td>\n",
       "      <td>-60.0</td>\n",
       "      <td>65.0</td>\n",
       "      <td>1.0</td>\n",
       "    </tr>\n",
       "    <tr>\n",
       "      <td>35</td>\n",
       "      <td>36.0</td>\n",
       "      <td>45.0</td>\n",
       "      <td>8.200000</td>\n",
       "      <td>8.20000</td>\n",
       "      <td>-1.907350e-07</td>\n",
       "      <td>1.0</td>\n",
       "      <td>NaN</td>\n",
       "      <td>NaN</td>\n",
       "      <td>-60.0</td>\n",
       "      <td>65.0</td>\n",
       "      <td>0.0</td>\n",
       "    </tr>\n",
       "    <tr>\n",
       "      <td>36</td>\n",
       "      <td>37.0</td>\n",
       "      <td>45.0</td>\n",
       "      <td>8.200000</td>\n",
       "      <td>8.20000</td>\n",
       "      <td>-1.907350e-07</td>\n",
       "      <td>1.0</td>\n",
       "      <td>NaN</td>\n",
       "      <td>NaN</td>\n",
       "      <td>-60.0</td>\n",
       "      <td>65.0</td>\n",
       "      <td>0.0</td>\n",
       "    </tr>\n",
       "    <tr>\n",
       "      <td>37</td>\n",
       "      <td>38.0</td>\n",
       "      <td>45.0</td>\n",
       "      <td>16.400000</td>\n",
       "      <td>16.40000</td>\n",
       "      <td>-3.814700e-07</td>\n",
       "      <td>1.0</td>\n",
       "      <td>NaN</td>\n",
       "      <td>NaN</td>\n",
       "      <td>-60.0</td>\n",
       "      <td>65.0</td>\n",
       "      <td>0.0</td>\n",
       "    </tr>\n",
       "    <tr>\n",
       "      <td>38</td>\n",
       "      <td>39.0</td>\n",
       "      <td>160.0</td>\n",
       "      <td>0.000000</td>\n",
       "      <td>0.00000</td>\n",
       "      <td>0.000000e+00</td>\n",
       "      <td>1.0</td>\n",
       "      <td>-40.0</td>\n",
       "      <td>60.0</td>\n",
       "      <td>-40.0</td>\n",
       "      <td>60.0</td>\n",
       "      <td>1.0</td>\n",
       "    </tr>\n",
       "    <tr>\n",
       "      <td>39</td>\n",
       "      <td>40.0</td>\n",
       "      <td>160.0</td>\n",
       "      <td>8.174017</td>\n",
       "      <td>8.17423</td>\n",
       "      <td>-2.129426e-04</td>\n",
       "      <td>1.0</td>\n",
       "      <td>-40.0</td>\n",
       "      <td>60.0</td>\n",
       "      <td>-40.0</td>\n",
       "      <td>60.0</td>\n",
       "      <td>1.0</td>\n",
       "    </tr>\n",
       "  </tbody>\n",
       "</table>\n",
       "</div>"
      ],
      "text/plain": [
       "    Control Point #  Gantry Angle    Plan MU    RTP MU  MU difference  \\\n",
       "34             35.0          45.0   0.000000   0.00000   0.000000e+00   \n",
       "35             36.0          45.0   8.200000   8.20000  -1.907350e-07   \n",
       "36             37.0          45.0   8.200000   8.20000  -1.907350e-07   \n",
       "37             38.0          45.0  16.400000  16.40000  -3.814700e-07   \n",
       "38             39.0         160.0   0.000000   0.00000   0.000000e+00   \n",
       "39             40.0         160.0   8.174017   8.17423  -2.129426e-04   \n",
       "\n",
       "    MLC difference (1.0 means 100% Same)  Plan JAW1(mm)  Plan JAW2(mm)  \\\n",
       "34                                   1.0          -60.0           65.0   \n",
       "35                                   1.0            NaN            NaN   \n",
       "36                                   1.0            NaN            NaN   \n",
       "37                                   1.0            NaN            NaN   \n",
       "38                                   1.0          -40.0           60.0   \n",
       "39                                   1.0          -40.0           60.0   \n",
       "\n",
       "    RTP JAW1(mm)  RTP JAW2(mm)  JAW difference(1.0 means same)  \n",
       "34         -60.0          65.0                             1.0  \n",
       "35         -60.0          65.0                             0.0  \n",
       "36         -60.0          65.0                             0.0  \n",
       "37         -60.0          65.0                             0.0  \n",
       "38         -40.0          60.0                             1.0  \n",
       "39         -40.0          60.0                             1.0  "
      ]
     },
     "execution_count": 123,
     "metadata": {},
     "output_type": "execute_result"
    }
   ],
   "source": [
    "df.iloc[34:40,:]"
   ]
  },
  {
   "cell_type": "code",
   "execution_count": null,
   "metadata": {},
   "outputs": [],
   "source": []
  }
 ],
 "metadata": {
  "kernelspec": {
   "display_name": "Python 3",
   "language": "python",
   "name": "python3"
  },
  "language_info": {
   "codemirror_mode": {
    "name": "ipython",
    "version": 3
   },
   "file_extension": ".py",
   "mimetype": "text/x-python",
   "name": "python",
   "nbconvert_exporter": "python",
   "pygments_lexer": "ipython3",
   "version": "3.7.4"
  }
 },
 "nbformat": 4,
 "nbformat_minor": 2
}
